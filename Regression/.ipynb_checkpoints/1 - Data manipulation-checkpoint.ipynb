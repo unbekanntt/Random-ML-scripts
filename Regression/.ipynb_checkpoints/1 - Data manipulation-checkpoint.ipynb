{
 "cells": [
  {
   "cell_type": "markdown",
   "metadata": {},
   "source": [
    "## Forex dataset"
   ]
  },
  {
   "cell_type": "markdown",
   "metadata": {},
   "source": [
    "In this project we will work with three datasets from forex: \\\n",
    "EURGBP: € vs £ \\\n",
    "EURUSD: € vs \\\\$ \\\n",
    "GBPUSD: £ vs \\\\$ "
   ]
  },
  {
   "cell_type": "markdown",
   "metadata": {},
   "source": [
    "### load data"
   ]
  },
  {
   "cell_type": "code",
   "execution_count": 9,
   "metadata": {},
   "outputs": [],
   "source": [
    "import pandas as pd\n",
    "\n",
    "EURUSD=pd.read_csv('EURUSD1.csv', header = None, sep=\"\\t\")\n",
    "EURGBP=pd.read_csv('EURGBP1.csv', header = None, sep=\"\\t\")\n",
    "GBPUSD=pd.read_csv('GBPUSD1.csv', header = None, sep=\"\\t\")\n",
    "\n",
    "GBPUSD.head()"
   ]
  },
  {
   "cell_type": "markdown",
   "metadata": {},
   "source": [
    "let's set the headers of columns"
   ]
  },
  {
   "cell_type": "code",
   "execution_count": 36,
   "metadata": {},
   "outputs": [],
   "source": [
    "df_names=[EURUSD, EURGBP, GBPUSD]\n",
    "for df_name in df_names:\n",
    "    df_name.columns = ['time','open','high','low','close','volume']\n",
    "    \n",
    "GBPUSD.head()"
   ]
  },
  {
   "cell_type": "markdown",
   "metadata": {},
   "source": [
    "change 'time' to datetime format and be sure it's in ascending order"
   ]
  },
  {
   "cell_type": "code",
   "execution_count": 39,
   "metadata": {},
   "outputs": [
    {
     "data": {
      "text/html": [
       "<div>\n",
       "<style scoped>\n",
       "    .dataframe tbody tr th:only-of-type {\n",
       "        vertical-align: middle;\n",
       "    }\n",
       "\n",
       "    .dataframe tbody tr th {\n",
       "        vertical-align: top;\n",
       "    }\n",
       "\n",
       "    .dataframe thead th {\n",
       "        text-align: right;\n",
       "    }\n",
       "</style>\n",
       "<table border=\"1\" class=\"dataframe\">\n",
       "  <thead>\n",
       "    <tr style=\"text-align: right;\">\n",
       "      <th></th>\n",
       "      <th>time</th>\n",
       "      <th>open</th>\n",
       "      <th>high</th>\n",
       "      <th>low</th>\n",
       "      <th>close</th>\n",
       "      <th>volume</th>\n",
       "    </tr>\n",
       "  </thead>\n",
       "  <tbody>\n",
       "    <tr>\n",
       "      <th>0</th>\n",
       "      <td>2020-07-08 13:24:00</td>\n",
       "      <td>1.25499</td>\n",
       "      <td>1.25499</td>\n",
       "      <td>1.25473</td>\n",
       "      <td>1.25492</td>\n",
       "      <td>203</td>\n",
       "    </tr>\n",
       "    <tr>\n",
       "      <th>1</th>\n",
       "      <td>2020-07-08 13:25:00</td>\n",
       "      <td>1.25493</td>\n",
       "      <td>1.25584</td>\n",
       "      <td>1.25493</td>\n",
       "      <td>1.25570</td>\n",
       "      <td>294</td>\n",
       "    </tr>\n",
       "    <tr>\n",
       "      <th>2</th>\n",
       "      <td>2020-07-08 13:26:00</td>\n",
       "      <td>1.25570</td>\n",
       "      <td>1.25591</td>\n",
       "      <td>1.25554</td>\n",
       "      <td>1.25557</td>\n",
       "      <td>287</td>\n",
       "    </tr>\n",
       "    <tr>\n",
       "      <th>3</th>\n",
       "      <td>2020-07-08 13:27:00</td>\n",
       "      <td>1.25557</td>\n",
       "      <td>1.25562</td>\n",
       "      <td>1.25526</td>\n",
       "      <td>1.25531</td>\n",
       "      <td>222</td>\n",
       "    </tr>\n",
       "    <tr>\n",
       "      <th>4</th>\n",
       "      <td>2020-07-08 13:28:00</td>\n",
       "      <td>1.25531</td>\n",
       "      <td>1.25551</td>\n",
       "      <td>1.25529</td>\n",
       "      <td>1.25542</td>\n",
       "      <td>243</td>\n",
       "    </tr>\n",
       "  </tbody>\n",
       "</table>\n",
       "</div>"
      ],
      "text/plain": [
       "                 time     open     high      low    close  volume\n",
       "0 2020-07-08 13:24:00  1.25499  1.25499  1.25473  1.25492     203\n",
       "1 2020-07-08 13:25:00  1.25493  1.25584  1.25493  1.25570     294\n",
       "2 2020-07-08 13:26:00  1.25570  1.25591  1.25554  1.25557     287\n",
       "3 2020-07-08 13:27:00  1.25557  1.25562  1.25526  1.25531     222\n",
       "4 2020-07-08 13:28:00  1.25531  1.25551  1.25529  1.25542     243"
      ]
     },
     "execution_count": 39,
     "metadata": {},
     "output_type": "execute_result"
    }
   ],
   "source": [
    "for df in df_names:\n",
    "    df['time'] = pd.to_datetime(df['time'])\n",
    "    df = df.sort_values(by=['time'])\n",
    "\n",
    "GBPUSD.head()"
   ]
  },
  {
   "cell_type": "markdown",
   "metadata": {},
   "source": [
    "### save data"
   ]
  },
  {
   "cell_type": "markdown",
   "metadata": {},
   "source": [
    "finally save the data in excel for next step"
   ]
  },
  {
   "cell_type": "code",
   "execution_count": 53,
   "metadata": {},
   "outputs": [],
   "source": [
    "df_sheets = {'EURUSD': EURUSD, 'EURGBP': EURGBP, 'GBPUSD': GBPUSD}\n",
    "writer = pd.ExcelWriter('Forex.xlsx', engine='xlsxwriter')\n",
    "\n",
    "for sheet_name in df_sheets.keys():\n",
    "    df_sheets[sheet_name].to_excel(writer, sheet_name=sheet_name, index=False)\n",
    "\n",
    "writer.save()"
   ]
  }
 ],
 "metadata": {
  "kernelspec": {
   "display_name": "Python 3",
   "language": "python",
   "name": "python3"
  },
  "language_info": {
   "codemirror_mode": {
    "name": "ipython",
    "version": 3
   },
   "file_extension": ".py",
   "mimetype": "text/x-python",
   "name": "python",
   "nbconvert_exporter": "python",
   "pygments_lexer": "ipython3",
   "version": "3.8.3"
  }
 },
 "nbformat": 4,
 "nbformat_minor": 4
}
